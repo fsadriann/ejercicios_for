{
  "nbformat": 4,
  "nbformat_minor": 0,
  "metadata": {
    "colab": {
      "provenance": [],
      "authorship_tag": "ABX9TyOllDim02bRclvmfFLo1lT0",
      "include_colab_link": true
    },
    "kernelspec": {
      "name": "python3",
      "display_name": "Python 3"
    },
    "language_info": {
      "name": "python"
    }
  },
  "cells": [
    {
      "cell_type": "markdown",
      "metadata": {
        "id": "view-in-github",
        "colab_type": "text"
      },
      "source": [
        "<a href=\"https://colab.research.google.com/github/fsadriann/ejercicios_for/blob/main/ejercicios_for_ipymb.ipynb\" target=\"_parent\"><img src=\"https://colab.research.google.com/assets/colab-badge.svg\" alt=\"Open In Colab\"/></a>"
      ]
    },
    {
      "cell_type": "markdown",
      "source": [
        "# INSTRUCCION REPETITIVA FOR"
      ],
      "metadata": {
        "id": "Eq4aRlQwsVlC"
      }
    },
    {
      "cell_type": "code",
      "source": [
        "# EJERCICIO 1: mostrar los números del 1 al 10 sin usar instrucciones repetitivas\n",
        "\n",
        "print(1)\n",
        "print(2)\n",
        "print(3)\n",
        "print(4)\n",
        "print(5)\n",
        "print(6)\n",
        "print(7)\n",
        "print(8)\n",
        "print(9)\n",
        "print(10)"
      ],
      "metadata": {
        "id": "oCX04bB7sbg0"
      },
      "execution_count": null,
      "outputs": []
    },
    {
      "cell_type": "code",
      "source": [
        "# EJERCICIO 2: mostrar los números del 1 al 10 usando la instrucción while\n",
        "\n",
        "contador = 1\n",
        "print(contador)\n",
        "while contador<10:\n",
        "  #contador = contador +1\n",
        "  contador += 1\n",
        "  print(contador)"
      ],
      "metadata": {
        "id": "yxJl9WS5thK7"
      },
      "execution_count": null,
      "outputs": []
    },
    {
      "cell_type": "code",
      "source": [
        "#EJERCICIO 3: mostrar los números del 1 al 10, usando la instrucción for y una lista\n",
        "\n",
        "lista = [1,2,3,4,5,6,7,8,9,10]\n",
        "\n",
        "for i in lista:\n",
        "    print(i)"
      ],
      "metadata": {
        "id": "OUjil5Xcur6k"
      },
      "execution_count": null,
      "outputs": []
    },
    {
      "cell_type": "code",
      "source": [
        "#EJERCICIO 4: mostrar los números del 1 al 10 usando la instrucción for y la instrucción range\n",
        "\n",
        "for i in range(1,11):\n",
        "    print(i)"
      ],
      "metadata": {
        "id": "L7G4UjtrwufV"
      },
      "execution_count": null,
      "outputs": []
    },
    {
      "cell_type": "code",
      "source": [
        "#EJERCICIO 5: mostrar una frase 10 veces usando la instrucción for y una lista\n",
        "\n",
        "lista = [1,2,3,4,5,6,7,8,9,10]\n",
        "\n",
        "for i in lista:\n",
        "    print(f\"{i} sistemas, lo mejor!!\")"
      ],
      "metadata": {
        "id": "7Pud2t6sxChM"
      },
      "execution_count": null,
      "outputs": []
    },
    {
      "cell_type": "code",
      "source": [
        "#EJERCICIO 6: mostrar la silaba inicial de los dias de la semana usando for y una lista con la silaba inicial de los dias de la semana\n",
        "\n",
        "dias_semana = \"lu\",\"ma\",\"mi\",\"ju\",\"vi\",\"sa\",\"do\"\n",
        "\n",
        "for i in dias_semana:\n",
        "    print(i)"
      ],
      "metadata": {
        "id": "lWgN6JuCygAg"
      },
      "execution_count": null,
      "outputs": []
    },
    {
      "cell_type": "code",
      "source": [
        "#EJERCICIO 7: mostrar una lista de distintos tipos de datos usando for\n",
        "\n",
        "lista = [1,3.4,9,True,\"nestor\",8,\"guanentá\"]\n",
        "\n",
        "for i in lista:\n",
        "  print(i)"
      ],
      "metadata": {
        "id": "4dvog9I5zZsN"
      },
      "execution_count": null,
      "outputs": []
    },
    {
      "cell_type": "code",
      "source": [
        "#EJERCICIO 8: ingresar su nombre y mostrarlo letra por letra\n",
        "\n",
        "nombre = input(\"ingrese su nombre: \")\n",
        "for letra in nombre:\n",
        "  print(letra)"
      ],
      "metadata": {
        "id": "QlcxmnqTz-7r"
      },
      "execution_count": null,
      "outputs": []
    },
    {
      "cell_type": "code",
      "source": [
        "#EJERCICIO 9: ingresar su nombre y mostarlo letra a letra usando for cambiando por asterisco * a la vocal e\n",
        "\n",
        "nombre = input(\"ingrese su nombre: \")\n",
        "for letra in nombre:\n",
        "  if letra == \"e\":\n",
        "    print(\"*\")\n",
        "  else:\n",
        "    print(letra)"
      ],
      "metadata": {
        "id": "OmN_c76C0kY2"
      },
      "execution_count": null,
      "outputs": []
    },
    {
      "cell_type": "code",
      "source": [
        "#EJERCICIO 10: ingresar su nombre y mostrarlo letra a letra en mayúscula, usando for\n",
        "\n",
        "nombre = input(\"ingrese su nombre: \")\n",
        "for letra in nombre:\n",
        "  print(letra.upper())"
      ],
      "metadata": {
        "id": "ZUF7Qlec14PL"
      },
      "execution_count": null,
      "outputs": []
    },
    {
      "cell_type": "code",
      "source": [
        "#EJERCICIO 11: imprimir listas de numeros usando for y range\n",
        "\n",
        "print(\"numeros del 0 al 9\")\n",
        "\n",
        "for i in range(10):\n",
        "    print(i)\n",
        "\n",
        "print(\"numeros del 1 al 10\")\n",
        "\n",
        "for i in range(1,11):\n",
        "    print(i)\n",
        "\n",
        "print(\"10 veces la frase\")\n",
        "\n",
        "for i in range(10):\n",
        "     print(\"sistemas lo mejor\")\n",
        "\n",
        "print(\"10 veces la frase i = \")\n",
        "\n",
        "for i in range(10):\n",
        "    print(\"i = \"+ str(i))\n",
        "\n",
        "print(\"10 veces la frase i = \")\n",
        "\n",
        "for i in range(10):\n",
        "    print(\"i = \"+ str(i))\n",
        "for i in range(10):\n",
        "    print(f\"i = {i}\")\n",
        "\n",
        "print(\"rango del 7 al 18, incrementado de 4 en 4\")\n",
        "\n",
        "for i in range(7,19,4):\n",
        "    print(i)\n",
        "\n",
        "print(\"convierte rango en lista a, y la muestra\")\n",
        "\n",
        "a = list(range(1000))\n",
        "print(a)"
      ],
      "metadata": {
        "id": "dCIgLy4hAnw6"
      },
      "execution_count": null,
      "outputs": []
    },
    {
      "cell_type": "markdown",
      "source": [
        "# Ejercicios\n",
        "\n",
        "1. dada la siguiente lista de números, [20, 21, 30, 41, 50, 51, 201] mostrar en pantalla solo lo que no termina en 1.\n",
        "\n",
        "2. mostrar 1000 veces la palabra \"programación\" \n",
        "\n",
        "3. de el conjunto de cadenas [\"E\", \"F\", \"M\", \"A\"] que corresponden a los primeros meses del año, mostrar el nombre de esos meses.\n",
        "\n",
        "4. leer un texto y determinar cuantas veces se encuentra con las vocales en minúsculas o en mayúsculas."
      ],
      "metadata": {
        "id": "PDFukio_GjG_"
      }
    },
    {
      "cell_type": "code",
      "source": [
        "# Ejercicio 1\n",
        "\n",
        "lista = [20,21,30,41,50,51,201]\n",
        "\n",
        "for i in lista:\n",
        "  if i % 10 == 0:\n",
        "    print(i)"
      ],
      "metadata": {
        "id": "o5hVF__ZMhHC"
      },
      "execution_count": null,
      "outputs": []
    },
    {
      "cell_type": "markdown",
      "source": [],
      "metadata": {
        "id": "LEgnEdy8RLF1"
      }
    },
    {
      "cell_type": "code",
      "source": [
        "# Ejercicio 2\n",
        "\n",
        "for i in range(1001):\n",
        "  print(\"programación\")"
      ],
      "metadata": {
        "id": "5jGPeyILPKN7"
      },
      "execution_count": null,
      "outputs": []
    },
    {
      "cell_type": "code",
      "source": [
        "# Ejercicio 3\n",
        "\n",
        "i_mes = [\"E\", \"F\", \"M\", \"A\"]\n",
        "\n",
        "meses = {\"E\": \"Enero\",\"F\": \"Febrero\",\"M\": \"Marzo\",\"A\": \"Abril\"}\n",
        "\n",
        "for i in i_mes:\n",
        "    mes = meses[i]\n",
        "    print(mes)"
      ],
      "metadata": {
        "id": "0_vmbdRmPomp"
      },
      "execution_count": null,
      "outputs": []
    },
    {
      "cell_type": "code",
      "source": [
        "# Ejercicio 4\n",
        "\n",
        "texto = input(\"Ingresa un texto: \")\n",
        "vocales = {'a': 0, 'e': 0, 'i': 0, 'o': 0, 'u': 0, 'A': 0, 'E': 0, 'I': 0, 'O': 0, 'U': 0}\n",
        "\n",
        "for letras in texto:\n",
        "    if letras in vocales:\n",
        "        vocales[letras] += 1\n",
        "\n",
        "print(\"Vocales en el texto:\")\n",
        "for vocal, cantidad in vocales.items():\n",
        "    print(f\"{vocal}: {cantidad}\")"
      ],
      "metadata": {
        "id": "t4y7OkJ0UNzl"
      },
      "execution_count": null,
      "outputs": []
    }
  ]
}